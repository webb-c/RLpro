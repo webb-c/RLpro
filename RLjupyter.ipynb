{
 "cells": [
  {
   "cell_type": "code",
   "execution_count": 2,
   "outputs": [],
   "source": [
    "# test code\n",
    "### gym version=0.26.2\n",
    "import gym"
   ],
   "metadata": {
    "collapsed": false
   }
  },
  {
   "cell_type": "code",
   "execution_count": 8,
   "outputs": [
    {
     "name": "stdout",
     "output_type": "stream",
     "text": [
      "Episode finished after 20 timesteps terminated\n",
      "Episode finished after 31 timesteps terminated\n",
      "Episode finished after 13 timesteps terminated\n",
      "Episode finished after 39 timesteps terminated\n",
      "Episode finished after 14 timesteps terminated\n",
      "Episode finished after 19 timesteps terminated\n",
      "Episode finished after 30 timesteps terminated\n",
      "Episode finished after 16 timesteps terminated\n",
      "Episode finished after 15 timesteps terminated\n",
      "Episode finished after 17 timesteps terminated\n"
     ]
    }
   ],
   "source": [
    "### CartPole\n",
    "env = gym.make(\"CartPole-v1\", render_mode=\"human\")\n",
    "observation, info = env.reset(seed=42)\n",
    "\n",
    "for _ in range(10):\n",
    "    for t in range(1000):\n",
    "        action = env.action_space.sample()\n",
    "        observation, reward, terminated, truncated, info = env.step(action)\n",
    "\n",
    "        if terminated or truncated:\n",
    "            end = \"terminated\"\n",
    "            if truncated : end=\"truncated\"\n",
    "            print(\"Episode finished after {} timesteps\".format(t+1), end)\n",
    "            observation, info = env.reset()\n",
    "            break\n",
    "\n",
    "env.close()"
   ],
   "metadata": {
    "collapsed": false
   }
  },
  {
   "cell_type": "code",
   "execution_count": 6,
   "outputs": [
    {
     "ename": "KeyboardInterrupt",
     "evalue": "",
     "output_type": "error",
     "traceback": [
      "\u001B[0;31m---------------------------------------------------------------------------\u001B[0m",
      "\u001B[0;31mKeyboardInterrupt\u001B[0m                         Traceback (most recent call last)",
      "Cell \u001B[0;32mIn[6], line 8\u001B[0m\n\u001B[1;32m      6\u001B[0m \u001B[38;5;28;01mwhile\u001B[39;00m \u001B[38;5;129;01mnot\u001B[39;00m done:\n\u001B[1;32m      7\u001B[0m     action \u001B[38;5;241m=\u001B[39m env\u001B[38;5;241m.\u001B[39maction_space\u001B[38;5;241m.\u001B[39msample()\n\u001B[0;32m----> 8\u001B[0m     observation, reward, terminated, truncated, info \u001B[38;5;241m=\u001B[39m \u001B[43menv\u001B[49m\u001B[38;5;241;43m.\u001B[39;49m\u001B[43mstep\u001B[49m\u001B[43m(\u001B[49m\u001B[43maction\u001B[49m\u001B[43m)\u001B[49m\n\u001B[1;32m     10\u001B[0m     done \u001B[38;5;241m=\u001B[39m terminated \u001B[38;5;129;01mor\u001B[39;00m truncated\n\u001B[1;32m     12\u001B[0m env\u001B[38;5;241m.\u001B[39mclose()\n",
      "File \u001B[0;32m~/opt/anaconda3/envs/RL_env/lib/python3.9/site-packages/gym/wrappers/time_limit.py:50\u001B[0m, in \u001B[0;36mTimeLimit.step\u001B[0;34m(self, action)\u001B[0m\n\u001B[1;32m     39\u001B[0m \u001B[38;5;28;01mdef\u001B[39;00m \u001B[38;5;21mstep\u001B[39m(\u001B[38;5;28mself\u001B[39m, action):\n\u001B[1;32m     40\u001B[0m     \u001B[38;5;124;03m\"\"\"Steps through the environment and if the number of steps elapsed exceeds ``max_episode_steps`` then truncate.\u001B[39;00m\n\u001B[1;32m     41\u001B[0m \n\u001B[1;32m     42\u001B[0m \u001B[38;5;124;03m    Args:\u001B[39;00m\n\u001B[0;32m   (...)\u001B[0m\n\u001B[1;32m     48\u001B[0m \n\u001B[1;32m     49\u001B[0m \u001B[38;5;124;03m    \"\"\"\u001B[39;00m\n\u001B[0;32m---> 50\u001B[0m     observation, reward, terminated, truncated, info \u001B[38;5;241m=\u001B[39m \u001B[38;5;28;43mself\u001B[39;49m\u001B[38;5;241;43m.\u001B[39;49m\u001B[43menv\u001B[49m\u001B[38;5;241;43m.\u001B[39;49m\u001B[43mstep\u001B[49m\u001B[43m(\u001B[49m\u001B[43maction\u001B[49m\u001B[43m)\u001B[49m\n\u001B[1;32m     51\u001B[0m     \u001B[38;5;28mself\u001B[39m\u001B[38;5;241m.\u001B[39m_elapsed_steps \u001B[38;5;241m+\u001B[39m\u001B[38;5;241m=\u001B[39m \u001B[38;5;241m1\u001B[39m\n\u001B[1;32m     53\u001B[0m     \u001B[38;5;28;01mif\u001B[39;00m \u001B[38;5;28mself\u001B[39m\u001B[38;5;241m.\u001B[39m_elapsed_steps \u001B[38;5;241m>\u001B[39m\u001B[38;5;241m=\u001B[39m \u001B[38;5;28mself\u001B[39m\u001B[38;5;241m.\u001B[39m_max_episode_steps:\n",
      "File \u001B[0;32m~/opt/anaconda3/envs/RL_env/lib/python3.9/site-packages/gym/wrappers/order_enforcing.py:37\u001B[0m, in \u001B[0;36mOrderEnforcing.step\u001B[0;34m(self, action)\u001B[0m\n\u001B[1;32m     35\u001B[0m \u001B[38;5;28;01mif\u001B[39;00m \u001B[38;5;129;01mnot\u001B[39;00m \u001B[38;5;28mself\u001B[39m\u001B[38;5;241m.\u001B[39m_has_reset:\n\u001B[1;32m     36\u001B[0m     \u001B[38;5;28;01mraise\u001B[39;00m ResetNeeded(\u001B[38;5;124m\"\u001B[39m\u001B[38;5;124mCannot call env.step() before calling env.reset()\u001B[39m\u001B[38;5;124m\"\u001B[39m)\n\u001B[0;32m---> 37\u001B[0m \u001B[38;5;28;01mreturn\u001B[39;00m \u001B[38;5;28;43mself\u001B[39;49m\u001B[38;5;241;43m.\u001B[39;49m\u001B[43menv\u001B[49m\u001B[38;5;241;43m.\u001B[39;49m\u001B[43mstep\u001B[49m\u001B[43m(\u001B[49m\u001B[43maction\u001B[49m\u001B[43m)\u001B[49m\n",
      "File \u001B[0;32m~/opt/anaconda3/envs/RL_env/lib/python3.9/site-packages/gym/wrappers/env_checker.py:39\u001B[0m, in \u001B[0;36mPassiveEnvChecker.step\u001B[0;34m(self, action)\u001B[0m\n\u001B[1;32m     37\u001B[0m     \u001B[38;5;28;01mreturn\u001B[39;00m env_step_passive_checker(\u001B[38;5;28mself\u001B[39m\u001B[38;5;241m.\u001B[39menv, action)\n\u001B[1;32m     38\u001B[0m \u001B[38;5;28;01melse\u001B[39;00m:\n\u001B[0;32m---> 39\u001B[0m     \u001B[38;5;28;01mreturn\u001B[39;00m \u001B[38;5;28;43mself\u001B[39;49m\u001B[38;5;241;43m.\u001B[39;49m\u001B[43menv\u001B[49m\u001B[38;5;241;43m.\u001B[39;49m\u001B[43mstep\u001B[49m\u001B[43m(\u001B[49m\u001B[43maction\u001B[49m\u001B[43m)\u001B[49m\n",
      "File \u001B[0;32m~/opt/anaconda3/envs/RL_env/lib/python3.9/site-packages/gym/envs/box2d/lunar_lander.py:599\u001B[0m, in \u001B[0;36mLunarLander.step\u001B[0;34m(self, action)\u001B[0m\n\u001B[1;32m    596\u001B[0m     reward \u001B[38;5;241m=\u001B[39m \u001B[38;5;241m+\u001B[39m\u001B[38;5;241m100\u001B[39m\n\u001B[1;32m    598\u001B[0m \u001B[38;5;28;01mif\u001B[39;00m \u001B[38;5;28mself\u001B[39m\u001B[38;5;241m.\u001B[39mrender_mode \u001B[38;5;241m==\u001B[39m \u001B[38;5;124m\"\u001B[39m\u001B[38;5;124mhuman\u001B[39m\u001B[38;5;124m\"\u001B[39m:\n\u001B[0;32m--> 599\u001B[0m     \u001B[38;5;28;43mself\u001B[39;49m\u001B[38;5;241;43m.\u001B[39;49m\u001B[43mrender\u001B[49m\u001B[43m(\u001B[49m\u001B[43m)\u001B[49m\n\u001B[1;32m    600\u001B[0m \u001B[38;5;28;01mreturn\u001B[39;00m np\u001B[38;5;241m.\u001B[39marray(state, dtype\u001B[38;5;241m=\u001B[39mnp\u001B[38;5;241m.\u001B[39mfloat32), reward, terminated, \u001B[38;5;28;01mFalse\u001B[39;00m, {}\n",
      "File \u001B[0;32m~/opt/anaconda3/envs/RL_env/lib/python3.9/site-packages/gym/envs/box2d/lunar_lander.py:710\u001B[0m, in \u001B[0;36mLunarLander.render\u001B[0;34m(self)\u001B[0m\n\u001B[1;32m    708\u001B[0m     \u001B[38;5;28mself\u001B[39m\u001B[38;5;241m.\u001B[39mscreen\u001B[38;5;241m.\u001B[39mblit(\u001B[38;5;28mself\u001B[39m\u001B[38;5;241m.\u001B[39msurf, (\u001B[38;5;241m0\u001B[39m, \u001B[38;5;241m0\u001B[39m))\n\u001B[1;32m    709\u001B[0m     pygame\u001B[38;5;241m.\u001B[39mevent\u001B[38;5;241m.\u001B[39mpump()\n\u001B[0;32m--> 710\u001B[0m     \u001B[38;5;28;43mself\u001B[39;49m\u001B[38;5;241;43m.\u001B[39;49m\u001B[43mclock\u001B[49m\u001B[38;5;241;43m.\u001B[39;49m\u001B[43mtick\u001B[49m\u001B[43m(\u001B[49m\u001B[38;5;28;43mself\u001B[39;49m\u001B[38;5;241;43m.\u001B[39;49m\u001B[43mmetadata\u001B[49m\u001B[43m[\u001B[49m\u001B[38;5;124;43m\"\u001B[39;49m\u001B[38;5;124;43mrender_fps\u001B[39;49m\u001B[38;5;124;43m\"\u001B[39;49m\u001B[43m]\u001B[49m\u001B[43m)\u001B[49m\n\u001B[1;32m    711\u001B[0m     pygame\u001B[38;5;241m.\u001B[39mdisplay\u001B[38;5;241m.\u001B[39mflip()\n\u001B[1;32m    712\u001B[0m \u001B[38;5;28;01melif\u001B[39;00m \u001B[38;5;28mself\u001B[39m\u001B[38;5;241m.\u001B[39mrender_mode \u001B[38;5;241m==\u001B[39m \u001B[38;5;124m\"\u001B[39m\u001B[38;5;124mrgb_array\u001B[39m\u001B[38;5;124m\"\u001B[39m:\n",
      "\u001B[0;31mKeyboardInterrupt\u001B[0m: "
     ]
    }
   ],
   "source": [
    "### LunarLander\n",
    "env = gym.make(\"LunarLander-v2\", render_mode=\"human\")\n",
    "observation, info = env.reset(seed=123, options={})\n",
    "\n",
    "done=False\n",
    "while not done:\n",
    "    action = env.action_space.sample()\n",
    "    observation, reward, terminated, truncated, info = env.step(action)\n",
    "\n",
    "    done = terminated or truncated\n",
    "\n",
    "env.close()"
   ],
   "metadata": {
    "collapsed": false
   }
  },
  {
   "cell_type": "code",
   "execution_count": 7,
   "outputs": [
    {
     "name": "stdout",
     "output_type": "stream",
     "text": [
      "[-0.4770237   0.24445486  0.621692  ] <class 'numpy.ndarray'>\n",
      "[0.20970938 0.15607521 0.9592784 ] <class 'numpy.ndarray'>\n",
      "[-0.08135748  0.84234023  0.49249047] <class 'numpy.ndarray'>\n",
      "[0.16736835 0.04377573 0.56597036] <class 'numpy.ndarray'>\n",
      "[-0.9415608   0.38711357  0.9506455 ] <class 'numpy.ndarray'>\n",
      "[-0.4316775  0.9716559  0.1611044] <class 'numpy.ndarray'>\n",
      "[0.42712107 0.20172268 0.73884624] <class 'numpy.ndarray'>\n",
      "[-0.64382434  0.26028988  0.5107284 ] <class 'numpy.ndarray'>\n",
      "[0.5050721  0.4995434  0.33686256] <class 'numpy.ndarray'>\n",
      "[0.250068   0.29803655 0.13786602] <class 'numpy.ndarray'>\n",
      "[0.03819606 0.55760574 0.67638636] <class 'numpy.ndarray'>\n",
      "[-0.642026    0.02056907  0.16068825] <class 'numpy.ndarray'>\n",
      "[0.39407718 0.06322233 0.40939617] <class 'numpy.ndarray'>\n",
      "[-0.35778543  0.09577371  0.37470368] <class 'numpy.ndarray'>\n",
      "[0.42612246 0.0477208  0.6474679 ] <class 'numpy.ndarray'>\n",
      "[0.3675457  0.94984525 0.61955917] <class 'numpy.ndarray'>\n",
      "[0.27185354 0.740345   0.02744307] <class 'numpy.ndarray'>\n",
      "[0.03462487 0.92184144 0.71315116] <class 'numpy.ndarray'>\n",
      "[0.9456111  0.88547647 0.2495798 ] <class 'numpy.ndarray'>\n",
      "[-0.5167331   0.51380825  0.41772124] <class 'numpy.ndarray'>\n",
      "[-0.6332153   0.48125032  0.45635822] <class 'numpy.ndarray'>\n",
      "[-0.11811715  0.8066542   0.7686416 ] <class 'numpy.ndarray'>\n",
      "[-0.7328073   0.24867299  0.13609977] <class 'numpy.ndarray'>\n",
      "[0.64581    0.39288568 0.39162335] <class 'numpy.ndarray'>\n",
      "[0.640883   0.04864245 0.14182623] <class 'numpy.ndarray'>\n",
      "[0.05349237 0.2717017  0.620397  ] <class 'numpy.ndarray'>\n",
      "[-0.18479043  0.69501954  0.99564755] <class 'numpy.ndarray'>\n",
      "[-0.7782442   0.06323374  0.36931565] <class 'numpy.ndarray'>\n",
      "[0.5361581  0.75056654 0.58691806] <class 'numpy.ndarray'>\n",
      "[-0.9766425   0.8610211   0.17287081] <class 'numpy.ndarray'>\n",
      "[-0.7866736   0.09323431  0.29064524] <class 'numpy.ndarray'>\n",
      "[-0.77463895  0.02599892  0.8834733 ] <class 'numpy.ndarray'>\n",
      "[0.9980451  0.7497847  0.25701222] <class 'numpy.ndarray'>\n",
      "[0.55055904 0.05294463 0.5773262 ] <class 'numpy.ndarray'>\n",
      "[0.8161016  0.71379995 0.97549033] <class 'numpy.ndarray'>\n",
      "[-0.83856505  0.859654    0.34726724] <class 'numpy.ndarray'>\n",
      "[0.06187236 0.75293446 0.704113  ] <class 'numpy.ndarray'>\n",
      "[-0.5168648  0.9668246  0.5524977] <class 'numpy.ndarray'>\n",
      "[-0.05324847  0.17640032  0.03255719] <class 'numpy.ndarray'>\n",
      "[-0.11692638  0.58866847  0.34421173] <class 'numpy.ndarray'>\n",
      "[0.98350424 0.36383238 0.30497813] <class 'numpy.ndarray'>\n",
      "[0.3989253  0.38036957 0.5249567 ] <class 'numpy.ndarray'>\n",
      "[-0.50812095  0.7394198   0.41182247] <class 'numpy.ndarray'>\n",
      "[-0.8924147   0.21347597  0.35449284] <class 'numpy.ndarray'>\n",
      "[0.96504736 0.17545043 0.29087248] <class 'numpy.ndarray'>\n",
      "[0.48447475 0.7516225  0.5602575 ] <class 'numpy.ndarray'>\n",
      "[0.28316277 0.93973356 0.42400533] <class 'numpy.ndarray'>\n",
      "[-0.16511616  0.98465335  0.7631225 ] <class 'numpy.ndarray'>\n",
      "[-0.5302156   0.40642306  0.49906975] <class 'numpy.ndarray'>\n",
      "[0.7354599  0.943286   0.41221175] <class 'numpy.ndarray'>\n",
      "[-0.2039384   0.9367307   0.31146896] <class 'numpy.ndarray'>\n",
      "[-0.8282132   0.06120439  0.11783195] <class 'numpy.ndarray'>\n",
      "[-0.29986095  0.7387162   0.63924044] <class 'numpy.ndarray'>\n",
      "[-0.5887806   0.9257981   0.55340105] <class 'numpy.ndarray'>\n",
      "[-0.20383148  0.63541526  0.25029212] <class 'numpy.ndarray'>\n",
      "[-0.51150006  0.26232994  0.5476172 ] <class 'numpy.ndarray'>\n",
      "[-0.40429142  0.8184008   0.16230525] <class 'numpy.ndarray'>\n",
      "[-0.52271146  0.26868245  0.96528137] <class 'numpy.ndarray'>\n",
      "[0.630352   0.04462906 0.2429478 ] <class 'numpy.ndarray'>\n",
      "[0.29934523 0.06662676 0.33722547] <class 'numpy.ndarray'>\n",
      "[-0.9413142  0.5653563  0.5571324] <class 'numpy.ndarray'>\n",
      "[-0.74443644  0.37707192  0.33736706] <class 'numpy.ndarray'>\n",
      "[0.36455652 0.33280498 0.03331736] <class 'numpy.ndarray'>\n",
      "[0.46513888 0.6330197  0.92219555] <class 'numpy.ndarray'>\n",
      "[0.5043369  0.07467676 0.41921118] <class 'numpy.ndarray'>\n",
      "[0.17091648 0.5229194  0.60116035] <class 'numpy.ndarray'>\n",
      "[-0.75820357  0.3184425   0.1308478 ] <class 'numpy.ndarray'>\n",
      "[0.6156376 0.6832877 0.8252165] <class 'numpy.ndarray'>\n",
      "[-0.6191498  0.5319198  0.8593884] <class 'numpy.ndarray'>\n",
      "[-0.3889774   0.25796476  0.55870473] <class 'numpy.ndarray'>\n",
      "[0.9129355  0.6480335  0.00380994] <class 'numpy.ndarray'>\n",
      "[0.33201015 0.33898532 0.87511176] <class 'numpy.ndarray'>\n",
      "[-0.76557976  0.33528706  0.7319253 ] <class 'numpy.ndarray'>\n",
      "[0.18081686 0.29193303 0.79112726] <class 'numpy.ndarray'>\n",
      "[0.4955246  0.142765   0.40520367] <class 'numpy.ndarray'>\n",
      "[-0.6002893  0.9921669  0.2900058] <class 'numpy.ndarray'>\n",
      "[0.876954   0.16075568 0.2140775 ] <class 'numpy.ndarray'>\n",
      "[0.59658897 0.21178953 0.38968855] <class 'numpy.ndarray'>\n",
      "[0.05593751 0.33923158 0.10322157] <class 'numpy.ndarray'>\n",
      "[0.80062944 0.24207243 0.3927204 ] <class 'numpy.ndarray'>\n",
      "[0.78470355 0.45970267 0.90419656] <class 'numpy.ndarray'>\n",
      "[-0.0481953   0.71814674  0.7886449 ] <class 'numpy.ndarray'>\n",
      "[-0.6933206   0.15195309  0.89055455] <class 'numpy.ndarray'>\n"
     ]
    },
    {
     "ename": "KeyboardInterrupt",
     "evalue": "",
     "output_type": "error",
     "traceback": [
      "\u001B[0;31m---------------------------------------------------------------------------\u001B[0m",
      "\u001B[0;31mKeyboardInterrupt\u001B[0m                         Traceback (most recent call last)",
      "Cell \u001B[0;32mIn[7], line 9\u001B[0m\n\u001B[1;32m      7\u001B[0m     action \u001B[38;5;241m=\u001B[39m env\u001B[38;5;241m.\u001B[39maction_space\u001B[38;5;241m.\u001B[39msample()\n\u001B[1;32m      8\u001B[0m     \u001B[38;5;28mprint\u001B[39m(action, \u001B[38;5;28mtype\u001B[39m(action))\n\u001B[0;32m----> 9\u001B[0m     observation, reward, terminated, truncated, info \u001B[38;5;241m=\u001B[39m \u001B[43menv\u001B[49m\u001B[38;5;241;43m.\u001B[39;49m\u001B[43mstep\u001B[49m\u001B[43m(\u001B[49m\u001B[43maction\u001B[49m\u001B[43m)\u001B[49m\n\u001B[1;32m     11\u001B[0m     done \u001B[38;5;241m=\u001B[39m terminated \u001B[38;5;129;01mor\u001B[39;00m truncated\n\u001B[1;32m     13\u001B[0m env\u001B[38;5;241m.\u001B[39mclose()\n",
      "File \u001B[0;32m~/opt/anaconda3/envs/RL_env/lib/python3.9/site-packages/gym/wrappers/time_limit.py:50\u001B[0m, in \u001B[0;36mTimeLimit.step\u001B[0;34m(self, action)\u001B[0m\n\u001B[1;32m     39\u001B[0m \u001B[38;5;28;01mdef\u001B[39;00m \u001B[38;5;21mstep\u001B[39m(\u001B[38;5;28mself\u001B[39m, action):\n\u001B[1;32m     40\u001B[0m     \u001B[38;5;124;03m\"\"\"Steps through the environment and if the number of steps elapsed exceeds ``max_episode_steps`` then truncate.\u001B[39;00m\n\u001B[1;32m     41\u001B[0m \n\u001B[1;32m     42\u001B[0m \u001B[38;5;124;03m    Args:\u001B[39;00m\n\u001B[0;32m   (...)\u001B[0m\n\u001B[1;32m     48\u001B[0m \n\u001B[1;32m     49\u001B[0m \u001B[38;5;124;03m    \"\"\"\u001B[39;00m\n\u001B[0;32m---> 50\u001B[0m     observation, reward, terminated, truncated, info \u001B[38;5;241m=\u001B[39m \u001B[38;5;28;43mself\u001B[39;49m\u001B[38;5;241;43m.\u001B[39;49m\u001B[43menv\u001B[49m\u001B[38;5;241;43m.\u001B[39;49m\u001B[43mstep\u001B[49m\u001B[43m(\u001B[49m\u001B[43maction\u001B[49m\u001B[43m)\u001B[49m\n\u001B[1;32m     51\u001B[0m     \u001B[38;5;28mself\u001B[39m\u001B[38;5;241m.\u001B[39m_elapsed_steps \u001B[38;5;241m+\u001B[39m\u001B[38;5;241m=\u001B[39m \u001B[38;5;241m1\u001B[39m\n\u001B[1;32m     53\u001B[0m     \u001B[38;5;28;01mif\u001B[39;00m \u001B[38;5;28mself\u001B[39m\u001B[38;5;241m.\u001B[39m_elapsed_steps \u001B[38;5;241m>\u001B[39m\u001B[38;5;241m=\u001B[39m \u001B[38;5;28mself\u001B[39m\u001B[38;5;241m.\u001B[39m_max_episode_steps:\n",
      "File \u001B[0;32m~/opt/anaconda3/envs/RL_env/lib/python3.9/site-packages/gym/wrappers/order_enforcing.py:37\u001B[0m, in \u001B[0;36mOrderEnforcing.step\u001B[0;34m(self, action)\u001B[0m\n\u001B[1;32m     35\u001B[0m \u001B[38;5;28;01mif\u001B[39;00m \u001B[38;5;129;01mnot\u001B[39;00m \u001B[38;5;28mself\u001B[39m\u001B[38;5;241m.\u001B[39m_has_reset:\n\u001B[1;32m     36\u001B[0m     \u001B[38;5;28;01mraise\u001B[39;00m ResetNeeded(\u001B[38;5;124m\"\u001B[39m\u001B[38;5;124mCannot call env.step() before calling env.reset()\u001B[39m\u001B[38;5;124m\"\u001B[39m)\n\u001B[0;32m---> 37\u001B[0m \u001B[38;5;28;01mreturn\u001B[39;00m \u001B[38;5;28;43mself\u001B[39;49m\u001B[38;5;241;43m.\u001B[39;49m\u001B[43menv\u001B[49m\u001B[38;5;241;43m.\u001B[39;49m\u001B[43mstep\u001B[49m\u001B[43m(\u001B[49m\u001B[43maction\u001B[49m\u001B[43m)\u001B[49m\n",
      "File \u001B[0;32m~/opt/anaconda3/envs/RL_env/lib/python3.9/site-packages/gym/wrappers/env_checker.py:39\u001B[0m, in \u001B[0;36mPassiveEnvChecker.step\u001B[0;34m(self, action)\u001B[0m\n\u001B[1;32m     37\u001B[0m     \u001B[38;5;28;01mreturn\u001B[39;00m env_step_passive_checker(\u001B[38;5;28mself\u001B[39m\u001B[38;5;241m.\u001B[39menv, action)\n\u001B[1;32m     38\u001B[0m \u001B[38;5;28;01melse\u001B[39;00m:\n\u001B[0;32m---> 39\u001B[0m     \u001B[38;5;28;01mreturn\u001B[39;00m \u001B[38;5;28;43mself\u001B[39;49m\u001B[38;5;241;43m.\u001B[39;49m\u001B[43menv\u001B[49m\u001B[38;5;241;43m.\u001B[39;49m\u001B[43mstep\u001B[49m\u001B[43m(\u001B[49m\u001B[43maction\u001B[49m\u001B[43m)\u001B[49m\n",
      "File \u001B[0;32m~/opt/anaconda3/envs/RL_env/lib/python3.9/site-packages/gym/envs/box2d/car_racing.py:564\u001B[0m, in \u001B[0;36mCarRacing.step\u001B[0;34m(self, action)\u001B[0m\n\u001B[1;32m    561\u001B[0m         step_reward \u001B[38;5;241m=\u001B[39m \u001B[38;5;241m-\u001B[39m\u001B[38;5;241m100\u001B[39m\n\u001B[1;32m    563\u001B[0m \u001B[38;5;28;01mif\u001B[39;00m \u001B[38;5;28mself\u001B[39m\u001B[38;5;241m.\u001B[39mrender_mode \u001B[38;5;241m==\u001B[39m \u001B[38;5;124m\"\u001B[39m\u001B[38;5;124mhuman\u001B[39m\u001B[38;5;124m\"\u001B[39m:\n\u001B[0;32m--> 564\u001B[0m     \u001B[38;5;28;43mself\u001B[39;49m\u001B[38;5;241;43m.\u001B[39;49m\u001B[43mrender\u001B[49m\u001B[43m(\u001B[49m\u001B[43m)\u001B[49m\n\u001B[1;32m    565\u001B[0m \u001B[38;5;28;01mreturn\u001B[39;00m \u001B[38;5;28mself\u001B[39m\u001B[38;5;241m.\u001B[39mstate, step_reward, terminated, truncated, {}\n",
      "File \u001B[0;32m~/opt/anaconda3/envs/RL_env/lib/python3.9/site-packages/gym/envs/box2d/car_racing.py:575\u001B[0m, in \u001B[0;36mCarRacing.render\u001B[0;34m(self)\u001B[0m\n\u001B[1;32m    569\u001B[0m     gym\u001B[38;5;241m.\u001B[39mlogger\u001B[38;5;241m.\u001B[39mwarn(\n\u001B[1;32m    570\u001B[0m         \u001B[38;5;124m\"\u001B[39m\u001B[38;5;124mYou are calling render method without specifying any render mode. \u001B[39m\u001B[38;5;124m\"\u001B[39m\n\u001B[1;32m    571\u001B[0m         \u001B[38;5;124m\"\u001B[39m\u001B[38;5;124mYou can specify the render_mode at initialization, \u001B[39m\u001B[38;5;124m\"\u001B[39m\n\u001B[1;32m    572\u001B[0m         \u001B[38;5;124mf\u001B[39m\u001B[38;5;124m'\u001B[39m\u001B[38;5;124me.g. gym(\u001B[39m\u001B[38;5;124m\"\u001B[39m\u001B[38;5;132;01m{\u001B[39;00m\u001B[38;5;28mself\u001B[39m\u001B[38;5;241m.\u001B[39mspec\u001B[38;5;241m.\u001B[39mid\u001B[38;5;132;01m}\u001B[39;00m\u001B[38;5;124m\"\u001B[39m\u001B[38;5;124m, render_mode=\u001B[39m\u001B[38;5;124m\"\u001B[39m\u001B[38;5;124mrgb_array\u001B[39m\u001B[38;5;124m\"\u001B[39m\u001B[38;5;124m)\u001B[39m\u001B[38;5;124m'\u001B[39m\n\u001B[1;32m    573\u001B[0m     )\n\u001B[1;32m    574\u001B[0m \u001B[38;5;28;01melse\u001B[39;00m:\n\u001B[0;32m--> 575\u001B[0m     \u001B[38;5;28;01mreturn\u001B[39;00m \u001B[38;5;28;43mself\u001B[39;49m\u001B[38;5;241;43m.\u001B[39;49m\u001B[43m_render\u001B[49m\u001B[43m(\u001B[49m\u001B[38;5;28;43mself\u001B[39;49m\u001B[38;5;241;43m.\u001B[39;49m\u001B[43mrender_mode\u001B[49m\u001B[43m)\u001B[49m\n",
      "File \u001B[0;32m~/opt/anaconda3/envs/RL_env/lib/python3.9/site-packages/gym/envs/box2d/car_racing.py:603\u001B[0m, in \u001B[0;36mCarRacing._render\u001B[0;34m(self, mode)\u001B[0m\n\u001B[1;32m    600\u001B[0m trans \u001B[38;5;241m=\u001B[39m pygame\u001B[38;5;241m.\u001B[39mmath\u001B[38;5;241m.\u001B[39mVector2((scroll_x, scroll_y))\u001B[38;5;241m.\u001B[39mrotate_rad(angle)\n\u001B[1;32m    601\u001B[0m trans \u001B[38;5;241m=\u001B[39m (WINDOW_W \u001B[38;5;241m/\u001B[39m \u001B[38;5;241m2\u001B[39m \u001B[38;5;241m+\u001B[39m trans[\u001B[38;5;241m0\u001B[39m], WINDOW_H \u001B[38;5;241m/\u001B[39m \u001B[38;5;241m4\u001B[39m \u001B[38;5;241m+\u001B[39m trans[\u001B[38;5;241m1\u001B[39m])\n\u001B[0;32m--> 603\u001B[0m \u001B[38;5;28;43mself\u001B[39;49m\u001B[38;5;241;43m.\u001B[39;49m\u001B[43m_render_road\u001B[49m\u001B[43m(\u001B[49m\u001B[43mzoom\u001B[49m\u001B[43m,\u001B[49m\u001B[43m \u001B[49m\u001B[43mtrans\u001B[49m\u001B[43m,\u001B[49m\u001B[43m \u001B[49m\u001B[43mangle\u001B[49m\u001B[43m)\u001B[49m\n\u001B[1;32m    604\u001B[0m \u001B[38;5;28mself\u001B[39m\u001B[38;5;241m.\u001B[39mcar\u001B[38;5;241m.\u001B[39mdraw(\n\u001B[1;32m    605\u001B[0m     \u001B[38;5;28mself\u001B[39m\u001B[38;5;241m.\u001B[39msurf,\n\u001B[1;32m    606\u001B[0m     zoom,\n\u001B[0;32m   (...)\u001B[0m\n\u001B[1;32m    609\u001B[0m     mode \u001B[38;5;129;01mnot\u001B[39;00m \u001B[38;5;129;01min\u001B[39;00m [\u001B[38;5;124m\"\u001B[39m\u001B[38;5;124mstate_pixels_list\u001B[39m\u001B[38;5;124m\"\u001B[39m, \u001B[38;5;124m\"\u001B[39m\u001B[38;5;124mstate_pixels\u001B[39m\u001B[38;5;124m\"\u001B[39m],\n\u001B[1;32m    610\u001B[0m )\n\u001B[1;32m    612\u001B[0m \u001B[38;5;28mself\u001B[39m\u001B[38;5;241m.\u001B[39msurf \u001B[38;5;241m=\u001B[39m pygame\u001B[38;5;241m.\u001B[39mtransform\u001B[38;5;241m.\u001B[39mflip(\u001B[38;5;28mself\u001B[39m\u001B[38;5;241m.\u001B[39msurf, \u001B[38;5;28;01mFalse\u001B[39;00m, \u001B[38;5;28;01mTrue\u001B[39;00m)\n",
      "File \u001B[0;32m~/opt/anaconda3/envs/RL_env/lib/python3.9/site-packages/gym/envs/box2d/car_racing.py:665\u001B[0m, in \u001B[0;36mCarRacing._render_road\u001B[0;34m(self, zoom, translation, angle)\u001B[0m\n\u001B[1;32m    656\u001B[0m         grass\u001B[38;5;241m.\u001B[39mappend(\n\u001B[1;32m    657\u001B[0m             [\n\u001B[1;32m    658\u001B[0m                 (GRASS_DIM \u001B[38;5;241m*\u001B[39m x \u001B[38;5;241m+\u001B[39m GRASS_DIM, GRASS_DIM \u001B[38;5;241m*\u001B[39m y \u001B[38;5;241m+\u001B[39m \u001B[38;5;241m0\u001B[39m),\n\u001B[0;32m   (...)\u001B[0m\n\u001B[1;32m    662\u001B[0m             ]\n\u001B[1;32m    663\u001B[0m         )\n\u001B[1;32m    664\u001B[0m \u001B[38;5;28;01mfor\u001B[39;00m poly \u001B[38;5;129;01min\u001B[39;00m grass:\n\u001B[0;32m--> 665\u001B[0m     \u001B[38;5;28;43mself\u001B[39;49m\u001B[38;5;241;43m.\u001B[39;49m\u001B[43m_draw_colored_polygon\u001B[49m\u001B[43m(\u001B[49m\n\u001B[1;32m    666\u001B[0m \u001B[43m        \u001B[49m\u001B[38;5;28;43mself\u001B[39;49m\u001B[38;5;241;43m.\u001B[39;49m\u001B[43msurf\u001B[49m\u001B[43m,\u001B[49m\u001B[43m \u001B[49m\u001B[43mpoly\u001B[49m\u001B[43m,\u001B[49m\u001B[43m \u001B[49m\u001B[38;5;28;43mself\u001B[39;49m\u001B[38;5;241;43m.\u001B[39;49m\u001B[43mgrass_color\u001B[49m\u001B[43m,\u001B[49m\u001B[43m \u001B[49m\u001B[43mzoom\u001B[49m\u001B[43m,\u001B[49m\u001B[43m \u001B[49m\u001B[43mtranslation\u001B[49m\u001B[43m,\u001B[49m\u001B[43m \u001B[49m\u001B[43mangle\u001B[49m\n\u001B[1;32m    667\u001B[0m \u001B[43m    \u001B[49m\u001B[43m)\u001B[49m\n\u001B[1;32m    669\u001B[0m \u001B[38;5;66;03m# draw road\u001B[39;00m\n\u001B[1;32m    670\u001B[0m \u001B[38;5;28;01mfor\u001B[39;00m poly, color \u001B[38;5;129;01min\u001B[39;00m \u001B[38;5;28mself\u001B[39m\u001B[38;5;241m.\u001B[39mroad_poly:\n\u001B[1;32m    671\u001B[0m     \u001B[38;5;66;03m# converting to pixel coordinates\u001B[39;00m\n",
      "File \u001B[0;32m~/opt/anaconda3/envs/RL_env/lib/python3.9/site-packages/gym/envs/box2d/car_racing.py:747\u001B[0m, in \u001B[0;36mCarRacing._draw_colored_polygon\u001B[0;34m(self, surface, poly, color, zoom, translation, angle, clip)\u001B[0m\n\u001B[1;32m    744\u001B[0m \u001B[38;5;28;01mdef\u001B[39;00m \u001B[38;5;21m_draw_colored_polygon\u001B[39m(\n\u001B[1;32m    745\u001B[0m     \u001B[38;5;28mself\u001B[39m, surface, poly, color, zoom, translation, angle, clip\u001B[38;5;241m=\u001B[39m\u001B[38;5;28;01mTrue\u001B[39;00m\n\u001B[1;32m    746\u001B[0m ):\n\u001B[0;32m--> 747\u001B[0m     poly \u001B[38;5;241m=\u001B[39m [pygame\u001B[38;5;241m.\u001B[39mmath\u001B[38;5;241m.\u001B[39mVector2(c)\u001B[38;5;241m.\u001B[39mrotate_rad(angle) \u001B[38;5;28;01mfor\u001B[39;00m c \u001B[38;5;129;01min\u001B[39;00m poly]\n\u001B[1;32m    748\u001B[0m     poly \u001B[38;5;241m=\u001B[39m [\n\u001B[1;32m    749\u001B[0m         (c[\u001B[38;5;241m0\u001B[39m] \u001B[38;5;241m*\u001B[39m zoom \u001B[38;5;241m+\u001B[39m translation[\u001B[38;5;241m0\u001B[39m], c[\u001B[38;5;241m1\u001B[39m] \u001B[38;5;241m*\u001B[39m zoom \u001B[38;5;241m+\u001B[39m translation[\u001B[38;5;241m1\u001B[39m]) \u001B[38;5;28;01mfor\u001B[39;00m c \u001B[38;5;129;01min\u001B[39;00m poly\n\u001B[1;32m    750\u001B[0m     ]\n\u001B[1;32m    751\u001B[0m     \u001B[38;5;66;03m# This checks if the polygon is out of bounds of the screen, and we skip drawing if so.\u001B[39;00m\n\u001B[1;32m    752\u001B[0m     \u001B[38;5;66;03m# Instead of calculating exactly if the polygon and screen overlap,\u001B[39;00m\n\u001B[1;32m    753\u001B[0m     \u001B[38;5;66;03m# we simply check if the polygon is in a larger bounding box whose dimension\u001B[39;00m\n\u001B[1;32m    754\u001B[0m     \u001B[38;5;66;03m# is greater than the screen by MAX_SHAPE_DIM, which is the maximum\u001B[39;00m\n\u001B[1;32m    755\u001B[0m     \u001B[38;5;66;03m# diagonal length of an environment object\u001B[39;00m\n",
      "File \u001B[0;32m~/opt/anaconda3/envs/RL_env/lib/python3.9/site-packages/gym/envs/box2d/car_racing.py:747\u001B[0m, in \u001B[0;36m<listcomp>\u001B[0;34m(.0)\u001B[0m\n\u001B[1;32m    744\u001B[0m \u001B[38;5;28;01mdef\u001B[39;00m \u001B[38;5;21m_draw_colored_polygon\u001B[39m(\n\u001B[1;32m    745\u001B[0m     \u001B[38;5;28mself\u001B[39m, surface, poly, color, zoom, translation, angle, clip\u001B[38;5;241m=\u001B[39m\u001B[38;5;28;01mTrue\u001B[39;00m\n\u001B[1;32m    746\u001B[0m ):\n\u001B[0;32m--> 747\u001B[0m     poly \u001B[38;5;241m=\u001B[39m [\u001B[43mpygame\u001B[49m\u001B[38;5;241;43m.\u001B[39;49m\u001B[43mmath\u001B[49m\u001B[38;5;241;43m.\u001B[39;49m\u001B[43mVector2\u001B[49m\u001B[43m(\u001B[49m\u001B[43mc\u001B[49m\u001B[43m)\u001B[49m\u001B[38;5;241m.\u001B[39mrotate_rad(angle) \u001B[38;5;28;01mfor\u001B[39;00m c \u001B[38;5;129;01min\u001B[39;00m poly]\n\u001B[1;32m    748\u001B[0m     poly \u001B[38;5;241m=\u001B[39m [\n\u001B[1;32m    749\u001B[0m         (c[\u001B[38;5;241m0\u001B[39m] \u001B[38;5;241m*\u001B[39m zoom \u001B[38;5;241m+\u001B[39m translation[\u001B[38;5;241m0\u001B[39m], c[\u001B[38;5;241m1\u001B[39m] \u001B[38;5;241m*\u001B[39m zoom \u001B[38;5;241m+\u001B[39m translation[\u001B[38;5;241m1\u001B[39m]) \u001B[38;5;28;01mfor\u001B[39;00m c \u001B[38;5;129;01min\u001B[39;00m poly\n\u001B[1;32m    750\u001B[0m     ]\n\u001B[1;32m    751\u001B[0m     \u001B[38;5;66;03m# This checks if the polygon is out of bounds of the screen, and we skip drawing if so.\u001B[39;00m\n\u001B[1;32m    752\u001B[0m     \u001B[38;5;66;03m# Instead of calculating exactly if the polygon and screen overlap,\u001B[39;00m\n\u001B[1;32m    753\u001B[0m     \u001B[38;5;66;03m# we simply check if the polygon is in a larger bounding box whose dimension\u001B[39;00m\n\u001B[1;32m    754\u001B[0m     \u001B[38;5;66;03m# is greater than the screen by MAX_SHAPE_DIM, which is the maximum\u001B[39;00m\n\u001B[1;32m    755\u001B[0m     \u001B[38;5;66;03m# diagonal length of an environment object\u001B[39;00m\n",
      "\u001B[0;31mKeyboardInterrupt\u001B[0m: "
     ]
    }
   ],
   "source": [
    "### driving car : continous action  3 type!!\n",
    "env = gym.make(\"CarRacing-v2\", render_mode=\"human\")\n",
    "observation, info = env.reset(seed=410, options={})\n",
    "\n",
    "done=False\n",
    "while not done:\n",
    "    action = env.action_space.sample()\n",
    "    print(action, type(action))\n",
    "    observation, reward, terminated, truncated, info = env.step(action)\n",
    "\n",
    "    done = terminated or truncated\n",
    "\n",
    "env.close()"
   ],
   "metadata": {
    "collapsed": false
   }
  },
  {
   "cell_type": "code",
   "execution_count": null,
   "outputs": [],
   "source": [],
   "metadata": {
    "collapsed": false
   }
  }
 ],
 "metadata": {
  "kernelspec": {
   "display_name": "Python 3",
   "language": "python",
   "name": "python3"
  },
  "language_info": {
   "codemirror_mode": {
    "name": "ipython",
    "version": 2
   },
   "file_extension": ".py",
   "mimetype": "text/x-python",
   "name": "python",
   "nbconvert_exporter": "python",
   "pygments_lexer": "ipython2",
   "version": "2.7.6"
  }
 },
 "nbformat": 4,
 "nbformat_minor": 0
}
